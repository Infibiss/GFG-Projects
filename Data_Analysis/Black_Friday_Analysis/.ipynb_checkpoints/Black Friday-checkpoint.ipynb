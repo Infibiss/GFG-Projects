{
 "cells": [
  {
   "cell_type": "code",
   "execution_count": 1,
   "id": "390f7343-d691-4e56-804d-d785d99b9729",
   "metadata": {},
   "outputs": [],
   "source": [
    "import pandas as pd\n",
    "import matplotlib.pyplot as plt\n",
    "import seaborn as sns"
   ]
  },
  {
   "cell_type": "code",
   "execution_count": 2,
   "id": "4f95bded-a6a9-4418-83e3-15f337b5fabc",
   "metadata": {},
   "outputs": [],
   "source": [
    "df = pd.read_csv(\"BlackFriday.csv\")"
   ]
  },
  {
   "cell_type": "markdown",
   "id": "c8e4211e-36e2-460a-bfd0-ad5c63316913",
   "metadata": {},
   "source": [
    "# Walkthrough"
   ]
  },
  {
   "cell_type": "code",
   "execution_count": 3,
   "id": "db7d465e-600c-4737-bbb4-8711258f406b",
   "metadata": {},
   "outputs": [
    {
     "data": {
      "text/html": [
       "<div>\n",
       "<style scoped>\n",
       "    .dataframe tbody tr th:only-of-type {\n",
       "        vertical-align: middle;\n",
       "    }\n",
       "\n",
       "    .dataframe tbody tr th {\n",
       "        vertical-align: top;\n",
       "    }\n",
       "\n",
       "    .dataframe thead th {\n",
       "        text-align: right;\n",
       "    }\n",
       "</style>\n",
       "<table border=\"1\" class=\"dataframe\">\n",
       "  <thead>\n",
       "    <tr style=\"text-align: right;\">\n",
       "      <th></th>\n",
       "      <th>User_ID</th>\n",
       "      <th>Product_ID</th>\n",
       "      <th>Gender</th>\n",
       "      <th>Age</th>\n",
       "      <th>Occupation</th>\n",
       "      <th>City_Category</th>\n",
       "      <th>Stay_In_Current_City_Years</th>\n",
       "      <th>Marital_Status</th>\n",
       "      <th>Product_Category_1</th>\n",
       "      <th>Product_Category_2</th>\n",
       "      <th>Product_Category_3</th>\n",
       "      <th>Purchase</th>\n",
       "    </tr>\n",
       "  </thead>\n",
       "  <tbody>\n",
       "    <tr>\n",
       "      <th>0</th>\n",
       "      <td>1000001</td>\n",
       "      <td>P00069042</td>\n",
       "      <td>F</td>\n",
       "      <td>0-17</td>\n",
       "      <td>10</td>\n",
       "      <td>A</td>\n",
       "      <td>2</td>\n",
       "      <td>0</td>\n",
       "      <td>3</td>\n",
       "      <td>NaN</td>\n",
       "      <td>NaN</td>\n",
       "      <td>8370</td>\n",
       "    </tr>\n",
       "    <tr>\n",
       "      <th>1</th>\n",
       "      <td>1000001</td>\n",
       "      <td>P00248942</td>\n",
       "      <td>F</td>\n",
       "      <td>0-17</td>\n",
       "      <td>10</td>\n",
       "      <td>A</td>\n",
       "      <td>2</td>\n",
       "      <td>0</td>\n",
       "      <td>1</td>\n",
       "      <td>6.0</td>\n",
       "      <td>14.0</td>\n",
       "      <td>15200</td>\n",
       "    </tr>\n",
       "    <tr>\n",
       "      <th>2</th>\n",
       "      <td>1000001</td>\n",
       "      <td>P00087842</td>\n",
       "      <td>F</td>\n",
       "      <td>0-17</td>\n",
       "      <td>10</td>\n",
       "      <td>A</td>\n",
       "      <td>2</td>\n",
       "      <td>0</td>\n",
       "      <td>12</td>\n",
       "      <td>NaN</td>\n",
       "      <td>NaN</td>\n",
       "      <td>1422</td>\n",
       "    </tr>\n",
       "    <tr>\n",
       "      <th>3</th>\n",
       "      <td>1000001</td>\n",
       "      <td>P00085442</td>\n",
       "      <td>F</td>\n",
       "      <td>0-17</td>\n",
       "      <td>10</td>\n",
       "      <td>A</td>\n",
       "      <td>2</td>\n",
       "      <td>0</td>\n",
       "      <td>12</td>\n",
       "      <td>14.0</td>\n",
       "      <td>NaN</td>\n",
       "      <td>1057</td>\n",
       "    </tr>\n",
       "    <tr>\n",
       "      <th>4</th>\n",
       "      <td>1000002</td>\n",
       "      <td>P00285442</td>\n",
       "      <td>M</td>\n",
       "      <td>55+</td>\n",
       "      <td>16</td>\n",
       "      <td>C</td>\n",
       "      <td>4+</td>\n",
       "      <td>0</td>\n",
       "      <td>8</td>\n",
       "      <td>NaN</td>\n",
       "      <td>NaN</td>\n",
       "      <td>7969</td>\n",
       "    </tr>\n",
       "  </tbody>\n",
       "</table>\n",
       "</div>"
      ],
      "text/plain": [
       "   User_ID Product_ID Gender   Age  Occupation City_Category  \\\n",
       "0  1000001  P00069042      F  0-17          10             A   \n",
       "1  1000001  P00248942      F  0-17          10             A   \n",
       "2  1000001  P00087842      F  0-17          10             A   \n",
       "3  1000001  P00085442      F  0-17          10             A   \n",
       "4  1000002  P00285442      M   55+          16             C   \n",
       "\n",
       "  Stay_In_Current_City_Years  Marital_Status  Product_Category_1  \\\n",
       "0                          2               0                   3   \n",
       "1                          2               0                   1   \n",
       "2                          2               0                  12   \n",
       "3                          2               0                  12   \n",
       "4                         4+               0                   8   \n",
       "\n",
       "   Product_Category_2  Product_Category_3  Purchase  \n",
       "0                 NaN                 NaN      8370  \n",
       "1                 6.0                14.0     15200  \n",
       "2                 NaN                 NaN      1422  \n",
       "3                14.0                 NaN      1057  \n",
       "4                 NaN                 NaN      7969  "
      ]
     },
     "execution_count": 3,
     "metadata": {},
     "output_type": "execute_result"
    }
   ],
   "source": [
    "df.head()"
   ]
  },
  {
   "cell_type": "code",
   "execution_count": 4,
   "id": "050cbe7e-a80c-4cbc-8a46-75e0bdda1241",
   "metadata": {},
   "outputs": [
    {
     "name": "stdout",
     "output_type": "stream",
     "text": [
      "<class 'pandas.core.frame.DataFrame'>\n",
      "RangeIndex: 537577 entries, 0 to 537576\n",
      "Data columns (total 12 columns):\n",
      " #   Column                      Non-Null Count   Dtype  \n",
      "---  ------                      --------------   -----  \n",
      " 0   User_ID                     537577 non-null  int64  \n",
      " 1   Product_ID                  537577 non-null  object \n",
      " 2   Gender                      537577 non-null  object \n",
      " 3   Age                         537577 non-null  object \n",
      " 4   Occupation                  537577 non-null  int64  \n",
      " 5   City_Category               537577 non-null  object \n",
      " 6   Stay_In_Current_City_Years  537577 non-null  object \n",
      " 7   Marital_Status              537577 non-null  int64  \n",
      " 8   Product_Category_1          537577 non-null  int64  \n",
      " 9   Product_Category_2          370591 non-null  float64\n",
      " 10  Product_Category_3          164278 non-null  float64\n",
      " 11  Purchase                    537577 non-null  int64  \n",
      "dtypes: float64(2), int64(5), object(5)\n",
      "memory usage: 49.2+ MB\n"
     ]
    }
   ],
   "source": [
    "df.info()"
   ]
  },
  {
   "cell_type": "code",
   "execution_count": 5,
   "id": "594d8a8e-a5aa-4f28-94a4-bbd3a31047eb",
   "metadata": {},
   "outputs": [
    {
     "data": {
      "text/plain": [
       "User_ID                            0\n",
       "Product_ID                         0\n",
       "Gender                             0\n",
       "Age                                0\n",
       "Occupation                         0\n",
       "City_Category                      0\n",
       "Stay_In_Current_City_Years         0\n",
       "Marital_Status                     0\n",
       "Product_Category_1                 0\n",
       "Product_Category_2            166986\n",
       "Product_Category_3            373299\n",
       "Purchase                           0\n",
       "dtype: int64"
      ]
     },
     "execution_count": 5,
     "metadata": {},
     "output_type": "execute_result"
    }
   ],
   "source": [
    "df.isnull().sum()"
   ]
  },
  {
   "cell_type": "code",
   "execution_count": 6,
   "id": "d0064318-0ad9-4da6-baf1-9632e38df67c",
   "metadata": {},
   "outputs": [
    {
     "data": {
      "text/html": [
       "<div>\n",
       "<style scoped>\n",
       "    .dataframe tbody tr th:only-of-type {\n",
       "        vertical-align: middle;\n",
       "    }\n",
       "\n",
       "    .dataframe tbody tr th {\n",
       "        vertical-align: top;\n",
       "    }\n",
       "\n",
       "    .dataframe thead th {\n",
       "        text-align: right;\n",
       "    }\n",
       "</style>\n",
       "<table border=\"1\" class=\"dataframe\">\n",
       "  <thead>\n",
       "    <tr style=\"text-align: right;\">\n",
       "      <th></th>\n",
       "      <th>User_ID</th>\n",
       "      <th>Product_ID</th>\n",
       "      <th>Gender</th>\n",
       "      <th>Age</th>\n",
       "      <th>Occupation</th>\n",
       "      <th>City_Category</th>\n",
       "      <th>Stay_In_Current_City_Years</th>\n",
       "      <th>Marital_Status</th>\n",
       "      <th>Product_Category_1</th>\n",
       "      <th>Purchase</th>\n",
       "    </tr>\n",
       "  </thead>\n",
       "  <tbody>\n",
       "    <tr>\n",
       "      <th>0</th>\n",
       "      <td>1000001</td>\n",
       "      <td>P00069042</td>\n",
       "      <td>F</td>\n",
       "      <td>0-17</td>\n",
       "      <td>10</td>\n",
       "      <td>A</td>\n",
       "      <td>2</td>\n",
       "      <td>0</td>\n",
       "      <td>3</td>\n",
       "      <td>8370</td>\n",
       "    </tr>\n",
       "    <tr>\n",
       "      <th>1</th>\n",
       "      <td>1000001</td>\n",
       "      <td>P00248942</td>\n",
       "      <td>F</td>\n",
       "      <td>0-17</td>\n",
       "      <td>10</td>\n",
       "      <td>A</td>\n",
       "      <td>2</td>\n",
       "      <td>0</td>\n",
       "      <td>1</td>\n",
       "      <td>15200</td>\n",
       "    </tr>\n",
       "    <tr>\n",
       "      <th>2</th>\n",
       "      <td>1000001</td>\n",
       "      <td>P00087842</td>\n",
       "      <td>F</td>\n",
       "      <td>0-17</td>\n",
       "      <td>10</td>\n",
       "      <td>A</td>\n",
       "      <td>2</td>\n",
       "      <td>0</td>\n",
       "      <td>12</td>\n",
       "      <td>1422</td>\n",
       "    </tr>\n",
       "    <tr>\n",
       "      <th>3</th>\n",
       "      <td>1000001</td>\n",
       "      <td>P00085442</td>\n",
       "      <td>F</td>\n",
       "      <td>0-17</td>\n",
       "      <td>10</td>\n",
       "      <td>A</td>\n",
       "      <td>2</td>\n",
       "      <td>0</td>\n",
       "      <td>12</td>\n",
       "      <td>1057</td>\n",
       "    </tr>\n",
       "    <tr>\n",
       "      <th>4</th>\n",
       "      <td>1000002</td>\n",
       "      <td>P00285442</td>\n",
       "      <td>M</td>\n",
       "      <td>55+</td>\n",
       "      <td>16</td>\n",
       "      <td>C</td>\n",
       "      <td>4+</td>\n",
       "      <td>0</td>\n",
       "      <td>8</td>\n",
       "      <td>7969</td>\n",
       "    </tr>\n",
       "    <tr>\n",
       "      <th>...</th>\n",
       "      <td>...</td>\n",
       "      <td>...</td>\n",
       "      <td>...</td>\n",
       "      <td>...</td>\n",
       "      <td>...</td>\n",
       "      <td>...</td>\n",
       "      <td>...</td>\n",
       "      <td>...</td>\n",
       "      <td>...</td>\n",
       "      <td>...</td>\n",
       "    </tr>\n",
       "    <tr>\n",
       "      <th>537572</th>\n",
       "      <td>1004737</td>\n",
       "      <td>P00193542</td>\n",
       "      <td>M</td>\n",
       "      <td>36-45</td>\n",
       "      <td>16</td>\n",
       "      <td>C</td>\n",
       "      <td>1</td>\n",
       "      <td>0</td>\n",
       "      <td>1</td>\n",
       "      <td>11664</td>\n",
       "    </tr>\n",
       "    <tr>\n",
       "      <th>537573</th>\n",
       "      <td>1004737</td>\n",
       "      <td>P00111142</td>\n",
       "      <td>M</td>\n",
       "      <td>36-45</td>\n",
       "      <td>16</td>\n",
       "      <td>C</td>\n",
       "      <td>1</td>\n",
       "      <td>0</td>\n",
       "      <td>1</td>\n",
       "      <td>19196</td>\n",
       "    </tr>\n",
       "    <tr>\n",
       "      <th>537574</th>\n",
       "      <td>1004737</td>\n",
       "      <td>P00345942</td>\n",
       "      <td>M</td>\n",
       "      <td>36-45</td>\n",
       "      <td>16</td>\n",
       "      <td>C</td>\n",
       "      <td>1</td>\n",
       "      <td>0</td>\n",
       "      <td>8</td>\n",
       "      <td>8043</td>\n",
       "    </tr>\n",
       "    <tr>\n",
       "      <th>537575</th>\n",
       "      <td>1004737</td>\n",
       "      <td>P00285842</td>\n",
       "      <td>M</td>\n",
       "      <td>36-45</td>\n",
       "      <td>16</td>\n",
       "      <td>C</td>\n",
       "      <td>1</td>\n",
       "      <td>0</td>\n",
       "      <td>5</td>\n",
       "      <td>7172</td>\n",
       "    </tr>\n",
       "    <tr>\n",
       "      <th>537576</th>\n",
       "      <td>1004737</td>\n",
       "      <td>P00118242</td>\n",
       "      <td>M</td>\n",
       "      <td>36-45</td>\n",
       "      <td>16</td>\n",
       "      <td>C</td>\n",
       "      <td>1</td>\n",
       "      <td>0</td>\n",
       "      <td>5</td>\n",
       "      <td>6875</td>\n",
       "    </tr>\n",
       "  </tbody>\n",
       "</table>\n",
       "<p>537577 rows × 10 columns</p>\n",
       "</div>"
      ],
      "text/plain": [
       "        User_ID Product_ID Gender    Age  Occupation City_Category  \\\n",
       "0       1000001  P00069042      F   0-17          10             A   \n",
       "1       1000001  P00248942      F   0-17          10             A   \n",
       "2       1000001  P00087842      F   0-17          10             A   \n",
       "3       1000001  P00085442      F   0-17          10             A   \n",
       "4       1000002  P00285442      M    55+          16             C   \n",
       "...         ...        ...    ...    ...         ...           ...   \n",
       "537572  1004737  P00193542      M  36-45          16             C   \n",
       "537573  1004737  P00111142      M  36-45          16             C   \n",
       "537574  1004737  P00345942      M  36-45          16             C   \n",
       "537575  1004737  P00285842      M  36-45          16             C   \n",
       "537576  1004737  P00118242      M  36-45          16             C   \n",
       "\n",
       "       Stay_In_Current_City_Years  Marital_Status  Product_Category_1  \\\n",
       "0                               2               0                   3   \n",
       "1                               2               0                   1   \n",
       "2                               2               0                  12   \n",
       "3                               2               0                  12   \n",
       "4                              4+               0                   8   \n",
       "...                           ...             ...                 ...   \n",
       "537572                          1               0                   1   \n",
       "537573                          1               0                   1   \n",
       "537574                          1               0                   8   \n",
       "537575                          1               0                   5   \n",
       "537576                          1               0                   5   \n",
       "\n",
       "        Purchase  \n",
       "0           8370  \n",
       "1          15200  \n",
       "2           1422  \n",
       "3           1057  \n",
       "4           7969  \n",
       "...          ...  \n",
       "537572     11664  \n",
       "537573     19196  \n",
       "537574      8043  \n",
       "537575      7172  \n",
       "537576      6875  \n",
       "\n",
       "[537577 rows x 10 columns]"
      ]
     },
     "execution_count": 6,
     "metadata": {},
     "output_type": "execute_result"
    }
   ],
   "source": [
    "df = df.dropna(axis=1)\n",
    "df"
   ]
  },
  {
   "cell_type": "markdown",
   "id": "fdc3904f-8254-4534-85d1-93823e48ae79",
   "metadata": {},
   "source": [
    "# Analysing Columns"
   ]
  },
  {
   "cell_type": "code",
   "execution_count": 7,
   "id": "3d129d9c-d239-4739-948e-fc43b73d7939",
   "metadata": {},
   "outputs": [
    {
     "data": {
      "text/html": [
       "<div>\n",
       "<style scoped>\n",
       "    .dataframe tbody tr th:only-of-type {\n",
       "        vertical-align: middle;\n",
       "    }\n",
       "\n",
       "    .dataframe tbody tr th {\n",
       "        vertical-align: top;\n",
       "    }\n",
       "\n",
       "    .dataframe thead th {\n",
       "        text-align: right;\n",
       "    }\n",
       "</style>\n",
       "<table border=\"1\" class=\"dataframe\">\n",
       "  <thead>\n",
       "    <tr style=\"text-align: right;\">\n",
       "      <th></th>\n",
       "      <th>User_ID</th>\n",
       "      <th>Product_ID</th>\n",
       "      <th>Gender</th>\n",
       "      <th>Age</th>\n",
       "      <th>Occupation</th>\n",
       "      <th>City_Category</th>\n",
       "      <th>Stay_In_Current_City_Years</th>\n",
       "      <th>Marital_Status</th>\n",
       "      <th>Product_Category_1</th>\n",
       "      <th>Purchase</th>\n",
       "    </tr>\n",
       "  </thead>\n",
       "  <tbody>\n",
       "    <tr>\n",
       "      <th>0</th>\n",
       "      <td>1000001</td>\n",
       "      <td>P00069042</td>\n",
       "      <td>F</td>\n",
       "      <td>0-17</td>\n",
       "      <td>10</td>\n",
       "      <td>A</td>\n",
       "      <td>2</td>\n",
       "      <td>0</td>\n",
       "      <td>3</td>\n",
       "      <td>8370</td>\n",
       "    </tr>\n",
       "    <tr>\n",
       "      <th>1</th>\n",
       "      <td>1000001</td>\n",
       "      <td>P00248942</td>\n",
       "      <td>F</td>\n",
       "      <td>0-17</td>\n",
       "      <td>10</td>\n",
       "      <td>A</td>\n",
       "      <td>2</td>\n",
       "      <td>0</td>\n",
       "      <td>1</td>\n",
       "      <td>15200</td>\n",
       "    </tr>\n",
       "    <tr>\n",
       "      <th>2</th>\n",
       "      <td>1000001</td>\n",
       "      <td>P00087842</td>\n",
       "      <td>F</td>\n",
       "      <td>0-17</td>\n",
       "      <td>10</td>\n",
       "      <td>A</td>\n",
       "      <td>2</td>\n",
       "      <td>0</td>\n",
       "      <td>12</td>\n",
       "      <td>1422</td>\n",
       "    </tr>\n",
       "    <tr>\n",
       "      <th>3</th>\n",
       "      <td>1000001</td>\n",
       "      <td>P00085442</td>\n",
       "      <td>F</td>\n",
       "      <td>0-17</td>\n",
       "      <td>10</td>\n",
       "      <td>A</td>\n",
       "      <td>2</td>\n",
       "      <td>0</td>\n",
       "      <td>12</td>\n",
       "      <td>1057</td>\n",
       "    </tr>\n",
       "    <tr>\n",
       "      <th>4</th>\n",
       "      <td>1000002</td>\n",
       "      <td>P00285442</td>\n",
       "      <td>M</td>\n",
       "      <td>55+</td>\n",
       "      <td>16</td>\n",
       "      <td>C</td>\n",
       "      <td>4+</td>\n",
       "      <td>0</td>\n",
       "      <td>8</td>\n",
       "      <td>7969</td>\n",
       "    </tr>\n",
       "  </tbody>\n",
       "</table>\n",
       "</div>"
      ],
      "text/plain": [
       "   User_ID Product_ID Gender   Age  Occupation City_Category  \\\n",
       "0  1000001  P00069042      F  0-17          10             A   \n",
       "1  1000001  P00248942      F  0-17          10             A   \n",
       "2  1000001  P00087842      F  0-17          10             A   \n",
       "3  1000001  P00085442      F  0-17          10             A   \n",
       "4  1000002  P00285442      M   55+          16             C   \n",
       "\n",
       "  Stay_In_Current_City_Years  Marital_Status  Product_Category_1  Purchase  \n",
       "0                          2               0                   3      8370  \n",
       "1                          2               0                   1     15200  \n",
       "2                          2               0                  12      1422  \n",
       "3                          2               0                  12      1057  \n",
       "4                         4+               0                   8      7969  "
      ]
     },
     "execution_count": 7,
     "metadata": {},
     "output_type": "execute_result"
    }
   ],
   "source": [
    "df.head()"
   ]
  },
  {
   "cell_type": "code",
   "execution_count": 8,
   "id": "6fb86829-c0d2-4213-baf4-65dcded87bb8",
   "metadata": {},
   "outputs": [
    {
     "name": "stdout",
     "output_type": "stream",
     "text": [
      "Number of unique in User_ID - 5891\n",
      "\n",
      "Number of unique in Product_ID - 3623\n",
      "\n",
      "Number of unique in Gender - 2\n",
      "\tUnique in Gender - ['F' 'M']\n",
      "\n",
      "Number of unique in Age - 7\n",
      "\tUnique in Age - ['0-17' '55+' '26-35' '46-50' '51-55' '36-45' '18-25']\n",
      "\n",
      "Number of unique in Occupation - 21\n",
      "\tUnique in Occupation - [10 16 15  7 20  9  1 12 17  0  3  4 11  8 19  2 18  5 14 13  6]\n",
      "\n",
      "Number of unique in City_Category - 3\n",
      "\tUnique in City_Category - ['A' 'C' 'B']\n",
      "\n",
      "Number of unique in Stay_In_Current_City_Years - 5\n",
      "\tUnique in Stay_In_Current_City_Years - ['2' '4+' '3' '1' '0']\n",
      "\n",
      "Number of unique in Marital_Status - 2\n",
      "\tUnique in Marital_Status - [0 1]\n",
      "\n",
      "Number of unique in Product_Category_1 - 18\n",
      "\tUnique in Product_Category_1 - [ 3  1 12  8  5  4  2  6 14 11 13 15  7 16 18 10 17  9]\n",
      "\n",
      "Number of unique in Purchase - 17959\n",
      "\n"
     ]
    }
   ],
   "source": [
    "for i in df.columns:\n",
    "    print(f'Number of unique in {i} -', df[i].nunique())\n",
    "    if df[i].nunique() < 50:\n",
    "        print(f'\\tUnique in {i} -', df[i].unique())\n",
    "    print()"
   ]
  },
  {
   "cell_type": "code",
   "execution_count": 9,
   "id": "61085b0e-d4bc-477f-be78-fd2d234e14ee",
   "metadata": {},
   "outputs": [
    {
     "data": {
      "text/plain": [
       "9333.859852635065"
      ]
     },
     "execution_count": 9,
     "metadata": {},
     "output_type": "execute_result"
    }
   ],
   "source": [
    "df['Purchase'].mean()"
   ]
  },
  {
   "cell_type": "markdown",
   "id": "49660477-6f3a-458e-aa67-839bf1667d00",
   "metadata": {},
   "source": [
    "# Analysing Gender"
   ]
  },
  {
   "cell_type": "code",
   "execution_count": 10,
   "id": "1da5e4ae-edef-4740-9a48-17764e7e7e07",
   "metadata": {},
   "outputs": [
    {
     "name": "stdout",
     "output_type": "stream",
     "text": [
      "Gender\n",
      "F    132197\n",
      "M    405380\n",
      "dtype: int64\n"
     ]
    },
    {
     "data": {
      "text/plain": [
       "<Axes: title={'center': 'Gender Ratio'}>"
      ]
     },
     "execution_count": 10,
     "metadata": {},
     "output_type": "execute_result"
    },
    {
     "data": {
      "image/png": "[encoded data removed]",
      "text/plain": [
       "<Figure size 640x480 with 1 Axes>"
      ]
     },
     "metadata": {},
     "output_type": "display_data"
    }
   ],
   "source": [
    "data = df.groupby('Gender').size()\n",
    "print(data)\n",
    "data.plot(kind='pie', autopct='%.1f%%', title = 'Gender Ratio')"
   ]
  },
  {
   "cell_type": "code",
   "execution_count": 11,
   "id": "60a04e9a-d8fa-4bb3-af24-146b30962d5d",
   "metadata": {},
   "outputs": [
    {
     "data": {
      "text/plain": [
       "<matplotlib.legend.Legend at 0x1859b05d190>"
      ]
     },
     "execution_count": 11,
     "metadata": {},
     "output_type": "execute_result"
    },
    {
     "data": {
      "image/png": "[encoded data removed]",
      "text/plain": [
       "<Figure size 640x480 with 1 Axes>"
      ]
     },
     "metadata": {},
     "output_type": "display_data"
    }
   ],
   "source": [
    "for name, group in df.groupby('Gender'):\n",
    "    plt.hist(group['Purchase'], bins=50, alpha=0.5, label=name, histtype='step')\n",
    "plt.legend()"
   ]
  },
  {
   "cell_type": "code",
   "execution_count": 12,
   "id": "01b13de2-374d-403e-9923-3287b9661f0a",
   "metadata": {},
   "outputs": [
    {
     "data": {
      "text/plain": [
       "<Axes: ylabel='Purchase'>"
      ]
     },
     "execution_count": 12,
     "metadata": {},
     "output_type": "execute_result"
    },
    {
     "data": {
      "image/png": "[encoded data removed]",
      "text/plain": [
       "<Figure size 640x480 with 1 Axes>"
      ]
     },
     "metadata": {},
     "output_type": "display_data"
    }
   ],
   "source": [
    "df.groupby('Gender')['Purchase'].sum().plot(kind='pie', autopct=\"%0.1f%%\")"
   ]
  },
  {
   "cell_type": "code",
   "execution_count": null,
   "id": "cf7dd8f9-9321-4296-9bf3-070b322bbbd8",
   "metadata": {},
   "outputs": [],
   "source": [
    "df.groupby('Gender')['Purchase'].median().plot(kind='pie', autopct=\"%0.1f%%\")"
   ]
  },
  {
   "cell_type": "markdown",
   "id": "f0cfaf13-cf30-40b6-833e-529303169856",
   "metadata": {},
   "source": [
    "# Analysing Age"
   ]
  },
  {
   "cell_type": "code",
   "execution_count": null,
   "id": "72458774-b6d4-47b9-9568-fd95645911f7",
   "metadata": {},
   "outputs": [],
   "source": [
    "df.head()"
   ]
  },
  {
   "cell_type": "code",
   "execution_count": null,
   "id": "282de37b-7b1e-42b9-9c4b-9f56f88fadb7",
   "metadata": {},
   "outputs": [],
   "source": [
    "df['Age'].value_counts().plot(kind='bar', figsize = (12, 6), title = 'Purchase Distribution by Age')"
   ]
  },
  {
   "cell_type": "code",
   "execution_count": null,
   "id": "e10fe2f2-37b6-4498-b454-ebebcbb58487",
   "metadata": {},
   "outputs": [],
   "source": [
    "df.groupby('Age')['Product_ID'].nunique().plot(kind='bar', figsize = (12, 6), title = 'Number of unique products bought by Age')"
   ]
  },
  {
   "cell_type": "code",
   "execution_count": null,
   "id": "d616e691-8b95-4470-abd8-5a0e1081e757",
   "metadata": {},
   "outputs": [],
   "source": [
    "df.groupby('Age')['Purchase'].sum().plot(kind='bar', figsize = (12, 6), title = 'Amount Spend by Age')"
   ]
  },
  {
   "cell_type": "code",
   "execution_count": null,
   "id": "9ea4ddf7-02bb-4ea3-8720-6b1e93fa3c85",
   "metadata": {},
   "outputs": [],
   "source": [
    "df.groupby('Age')['Purchase'].mean().plot(kind = 'bar', figsize = (12, 6), title = 'Mean Amount Spend by Age')"
   ]
  },
  {
   "cell_type": "markdown",
   "id": "b3356e8c-bcb6-4817-aaf5-063665beec25",
   "metadata": {},
   "source": [
    "# Analysing Marital Status"
   ]
  },
  {
   "cell_type": "code",
   "execution_count": null,
   "id": "42f1420d-7ca6-4903-82c1-bab35c1daaeb",
   "metadata": {},
   "outputs": [],
   "source": [
    "df['Marital_Status'].value_counts().plot(kind='pie', autopct='%0.1f%%')"
   ]
  },
  {
   "cell_type": "markdown",
   "id": "9deecf6f-7979-4b20-84b0-5aa5f1da300a",
   "metadata": {},
   "source": [
    "# MultiColumn Analysis"
   ]
  },
  {
   "cell_type": "markdown",
   "id": "d7beb14e-37d0-4f14-a02e-13aa3f62ff89",
   "metadata": {},
   "source": [
    "## Age/Gender"
   ]
  },
  {
   "cell_type": "code",
   "execution_count": null,
   "id": "ed76e3d2-784e-40e1-9002-7e721003e129",
   "metadata": {},
   "outputs": [],
   "source": [
    "plt.figure(figsize=(12, 6))\n",
    "plt.subplot(1, 2, 1)\n",
    "sns.countplot(data=df, x='Age', hue='Gender')\n",
    "plt.subplot(1, 2, 2)\n",
    "sns.countplot(data=df, x='Gender', hue='Age')\n",
    "plt.tight_layout()"
   ]
  },
  {
   "cell_type": "markdown",
   "id": "9d30dacb-b1ca-4951-aafe-a182baa513f9",
   "metadata": {},
   "source": [
    "## Gender/Marital Status"
   ]
  },
  {
   "cell_type": "code",
   "execution_count": null,
   "id": "043f3455-b86d-4a75-88c7-d4647cddb405",
   "metadata": {},
   "outputs": [],
   "source": [
    "plt.figure(figsize=(12, 6))\n",
    "plt.subplot(1, 2, 1)\n",
    "sns.countplot(data=df, x='Gender', hue='Marital_Status')\n",
    "plt.subplot(1, 2, 2)\n",
    "sns.countplot(data=df, x='Marital_Status', hue='Gender')\n",
    "plt.tight_layout()"
   ]
  },
  {
   "cell_type": "markdown",
   "id": "a52431ce-238f-4b01-b447-b66f81d1c03f",
   "metadata": {},
   "source": [
    "## City Category Analysis"
   ]
  },
  {
   "cell_type": "code",
   "execution_count": null,
   "id": "8e1d285a-5982-484b-8068-9e9285bf0966",
   "metadata": {},
   "outputs": [],
   "source": [
    "sns.countplot(x=df['City_Category'], hue=df['City_Category'])"
   ]
  },
  {
   "cell_type": "code",
   "execution_count": null,
   "id": "74b2ca7d-1f9f-4e58-ae62-ecdc84c0b7c0",
   "metadata": {},
   "outputs": [],
   "source": [
    "df['City_Category'].value_counts().plot(kind='pie', autopct='%.1f%%')"
   ]
  },
  {
   "cell_type": "markdown",
   "id": "445819e0-b697-4ffe-b67a-b1aeb4a71a2b",
   "metadata": {},
   "source": [
    "### City Category/Age"
   ]
  },
  {
   "cell_type": "code",
   "execution_count": null,
   "id": "25e5262a-af50-4453-9671-f911e7d603d8",
   "metadata": {},
   "outputs": [],
   "source": [
    "plt.figure(figsize=(12, 6))\n",
    "plt.subplot(1, 2, 1)\n",
    "sns.countplot(data=df, x='City_Category', hue='Age')\n",
    "plt.subplot(1, 2, 2)\n",
    "sns.countplot(data=df, x='Age', hue='City_Category')\n",
    "plt.tight_layout()"
   ]
  },
  {
   "cell_type": "markdown",
   "id": "fd5e89ec-aeb1-4f8b-927f-849be4a1fe9d",
   "metadata": {},
   "source": [
    "### Marital Status/City Category"
   ]
  },
  {
   "cell_type": "code",
   "execution_count": null,
   "id": "a3e91de2-21ef-45a8-bdb9-997c94dd2c0d",
   "metadata": {},
   "outputs": [],
   "source": [
    "plt.figure(figsize=(12, 6))\n",
    "plt.subplot(1, 2, 1)\n",
    "sns.countplot(data=df, x='Marital_Status', hue='City_Category')\n",
    "plt.subplot(1, 2, 2)\n",
    "sns.countplot(data=df, x='City_Category', hue='Marital_Status')\n",
    "plt.tight_layout()"
   ]
  },
  {
   "cell_type": "markdown",
   "id": "6d934b3e-7d07-4b92-80bc-b58c7fa4e519",
   "metadata": {},
   "source": [
    "### City Category/Gender"
   ]
  },
  {
   "cell_type": "code",
   "execution_count": null,
   "id": "96523684-9576-4058-8293-44402c2cd269",
   "metadata": {},
   "outputs": [],
   "source": [
    "plt.figure(figsize=(12, 6))\n",
    "plt.subplot(1, 2, 1)\n",
    "sns.countplot(data=df, x='City_Category', hue='Gender')\n",
    "plt.subplot(1, 2, 2)\n",
    "sns.countplot(data=df, x='Gender', hue='City_Category')\n",
    "plt.tight_layout()"
   ]
  },
  {
   "cell_type": "markdown",
   "id": "cc0a7588-aa0c-4524-92c6-87fcb52b54d7",
   "metadata": {},
   "source": [
    "### City Category/Purchase"
   ]
  },
  {
   "cell_type": "code",
   "execution_count": null,
   "id": "5942d044-3ed1-480e-a57d-ca1d5fc57331",
   "metadata": {},
   "outputs": [],
   "source": [
    "for name, group in df.groupby('City_Category'):\n",
    "    plt.hist(group['Purchase'], bins=50, alpha=0.5, label=name, histtype='step')\n",
    "plt.legend()"
   ]
  },
  {
   "cell_type": "code",
   "execution_count": null,
   "id": "947d3e6d-420a-48e8-94a0-8f6f70ef256e",
   "metadata": {},
   "outputs": [],
   "source": [
    "df.groupby('City_Category')['Purchase'].sum().plot(kind='pie', autopct='%.1f%%')"
   ]
  },
  {
   "cell_type": "code",
   "execution_count": null,
   "id": "588644b5-38e4-45e5-b71c-cc2ecd64923c",
   "metadata": {},
   "outputs": [],
   "source": [
    "df.groupby('City_Category')['Purchase'].mean().plot(kind='pie', autopct='%.1f%%')"
   ]
  },
  {
   "cell_type": "markdown",
   "id": "ba229ea2-4a5e-45ff-90e5-ffd175c128c4",
   "metadata": {},
   "source": [
    "# Occupation and Products Analysis"
   ]
  },
  {
   "cell_type": "code",
   "execution_count": null,
   "id": "86b3bd91-3f49-4003-a8a3-585c113670e9",
   "metadata": {},
   "outputs": [],
   "source": [
    "df.head()"
   ]
  },
  {
   "cell_type": "markdown",
   "id": "883435ba-e461-4f40-a8f4-012d097b72c7",
   "metadata": {},
   "source": [
    "## Stay In Current City Years"
   ]
  },
  {
   "cell_type": "code",
   "execution_count": null,
   "id": "8b7a0238-cd98-466c-91ce-d22940ac336e",
   "metadata": {},
   "outputs": [],
   "source": [
    "sns.countplot(x=df['Stay_In_Current_City_Years'], hue=df['Stay_In_Current_City_Years'])"
   ]
  },
  {
   "cell_type": "code",
   "execution_count": null,
   "id": "04821fda-e309-492b-a493-9bb03385ebb7",
   "metadata": {},
   "outputs": [],
   "source": [
    "df['Stay_In_Current_City_Years'].value_counts().plot(kind='pie', autopct='%.1f%%')"
   ]
  },
  {
   "cell_type": "code",
   "execution_count": null,
   "id": "5454997a-f9f5-4807-97e9-add7908c1c9b",
   "metadata": {},
   "outputs": [],
   "source": [
    "plt.figure(figsize=(12, 12))\n",
    "\n",
    "plt.subplot(2, 2, 1)\n",
    "sns.countplot(x = df['Stay_In_Current_City_Years'], hue = df['Gender'])\n",
    "\n",
    "plt.subplot(2, 2, 2)\n",
    "sns.countplot(x = df['Stay_In_Current_City_Years'], hue = df['Marital_Status'])\n",
    "\n",
    "plt.subplot(2, 2, 3)\n",
    "sns.countplot(x = df['Stay_In_Current_City_Years'], hue = df['City_Category'])\n",
    "\n",
    "plt.subplot(2, 2, 4)\n",
    "sns.countplot(x = df['Stay_In_Current_City_Years'], hue = df['Age'])\n",
    "\n",
    "plt.tight_layout()"
   ]
  },
  {
   "cell_type": "code",
   "execution_count": null,
   "id": "2de7c2bc-0702-4407-a29f-681dfdc6293d",
   "metadata": {},
   "outputs": [],
   "source": [
    "df.groupby('Stay_In_Current_City_Years')['Purchase'].sum().plot(kind = 'bar')"
   ]
  },
  {
   "cell_type": "code",
   "execution_count": null,
   "id": "550021ea-8775-418b-b2bb-062aa0c211b6",
   "metadata": {},
   "outputs": [],
   "source": [
    "df.groupby('Stay_In_Current_City_Years')['Purchase'].mean().plot(kind = 'bar')"
   ]
  },
  {
   "cell_type": "markdown",
   "id": "84dc8423-1ac5-4c54-9c74-190a5c391fcb",
   "metadata": {},
   "source": [
    "## Occupation"
   ]
  },
  {
   "cell_type": "code",
   "execution_count": null,
   "id": "fdc7e6e6-d428-464f-936e-df89f3f6e7fa",
   "metadata": {},
   "outputs": [],
   "source": [
    "sns.countplot(x=df['Occupation'], hue=df['Occupation'])"
   ]
  },
  {
   "cell_type": "code",
   "execution_count": null,
   "id": "63056e42-f5b6-435f-9d6c-8803c19d716f",
   "metadata": {},
   "outputs": [],
   "source": [
    "df['Occupation'].value_counts(ascending=True).plot(kind='bar')"
   ]
  },
  {
   "cell_type": "code",
   "execution_count": null,
   "id": "f4a7a5ca-ee94-4799-8b62-ab0ce09dfdb8",
   "metadata": {},
   "outputs": [],
   "source": [
    "df.groupby('Occupation')['Purchase'].sum().sort_values().plot(kind = 'bar')"
   ]
  },
  {
   "cell_type": "code",
   "execution_count": null,
   "id": "a09b8763-5cb5-46b7-8645-10e4927c4bde",
   "metadata": {},
   "outputs": [],
   "source": [
    "df.groupby('Occupation')['Purchase'].mean().sort_values().plot(kind = 'bar')"
   ]
  },
  {
   "cell_type": "code",
   "execution_count": null,
   "id": "002e5e77-0b7c-4740-bb33-4197a690a2e3",
   "metadata": {},
   "outputs": [],
   "source": [
    "sns.countplot(x = 'Occupation', hue = 'Marital_Status', data = df)"
   ]
  },
  {
   "cell_type": "code",
   "execution_count": null,
   "id": "a9d24cd9-5b65-4a3a-8434-afa2fe9f7c36",
   "metadata": {},
   "outputs": [],
   "source": [
    "sns.countplot(x = 'Occupation', hue = 'Gender', data = df)"
   ]
  },
  {
   "cell_type": "code",
   "execution_count": null,
   "id": "bab8c277-f6ee-4a83-897e-51241d98f878",
   "metadata": {},
   "outputs": [],
   "source": [
    "df.groupby('Occupation').nunique()['Product_ID'].sort_values().plot(kind = 'bar')"
   ]
  },
  {
   "cell_type": "markdown",
   "id": "8454d093-7f35-4574-a1ee-43ea189b29bd",
   "metadata": {},
   "source": [
    "## Products"
   ]
  },
  {
   "cell_type": "code",
   "execution_count": null,
   "id": "5b75f9b4-66e9-48a6-8fc9-5de48304f22f",
   "metadata": {},
   "outputs": [],
   "source": [
    "df['Product_Category_1'].value_counts().sort_index().plot(kind='bar')"
   ]
  },
  {
   "cell_type": "code",
   "execution_count": null,
   "id": "1ec2509a-0ac5-4020-8cee-234f49341915",
   "metadata": {},
   "outputs": [],
   "source": [
    "df.groupby('Product_Category_1')['Purchase'].sum().sort_values().plot(kind = 'bar')"
   ]
  },
  {
   "cell_type": "code",
   "execution_count": null,
   "id": "59cbd9b7-0d2b-4e1a-b8c1-b0e28023110b",
   "metadata": {},
   "outputs": [],
   "source": [
    "df.groupby('Product_Category_1')['Purchase'].mean().sort_values().plot(kind = 'bar')"
   ]
  },
  {
   "cell_type": "code",
   "execution_count": null,
   "id": "18eda0cb-6888-4abd-b829-bc1f4d26bcaf",
   "metadata": {},
   "outputs": [],
   "source": [
    "df.groupby('Product_ID')['Purchase'].sum().nlargest(10).sort_values().plot(kind = 'bar')"
   ]
  },
  {
   "cell_type": "code",
   "execution_count": null,
   "id": "58524705-a4cc-4714-af7a-6ea571b72cf3",
   "metadata": {},
   "outputs": [],
   "source": [
    "df.groupby('Product_ID')['Purchase'].size().nlargest(10).sort_values().plot(kind = 'bar')"
   ]
  },
  {
   "cell_type": "code",
   "execution_count": null,
   "id": "1bd71b5b-4a06-4018-ac8d-337c5b696a95",
   "metadata": {},
   "outputs": [],
   "source": [
    "df.groupby('Product_ID')['Purchase'].mean().nlargest(10).sort_values().plot(kind = 'bar')"
   ]
  },
  {
   "cell_type": "code",
   "execution_count": null,
   "id": "7976463a-4503-4e51-b12c-5c28dc92b2e4",
   "metadata": {},
   "outputs": [],
   "source": [
    "sns.countplot(x = 'Product_Category_1', hue = 'Gender', data = df)"
   ]
  },
  {
   "cell_type": "code",
   "execution_count": null,
   "id": "995a1292-e6d0-41b8-9deb-8f7d1f58d068",
   "metadata": {},
   "outputs": [],
   "source": [
    "sns.countplot(x = 'Product_Category_1', hue = 'Marital_Status', data = df)"
   ]
  },
  {
   "cell_type": "markdown",
   "id": "1e4b8b0b-c921-413a-b363-2df4062ec2e6",
   "metadata": {},
   "source": [
    "# Age & Marital Status"
   ]
  },
  {
   "cell_type": "code",
   "execution_count": null,
   "id": "fc0bfb77-646e-46da-a6fb-ebc43928b79d",
   "metadata": {},
   "outputs": [],
   "source": [
    "df.head()"
   ]
  },
  {
   "cell_type": "code",
   "execution_count": null,
   "id": "2d8b3ec4-181a-43dd-b03f-6650a6cfe448",
   "metadata": {},
   "outputs": [],
   "source": [
    "l = []\n",
    "for i in range(len(df)):\n",
    "    l.append(df['Gender'][i] +\"_\"+ str(df['Marital_Status'][i]))\n",
    "\n",
    "df['MaritalGender'] = l"
   ]
  },
  {
   "cell_type": "code",
   "execution_count": null,
   "id": "2fffe331-d864-4d2f-a470-e5240bea3648",
   "metadata": {},
   "outputs": [],
   "source": [
    "df.head()"
   ]
  },
  {
   "cell_type": "code",
   "execution_count": null,
   "id": "72ff2ed6-9664-4477-b8de-614d42ef9af0",
   "metadata": {},
   "outputs": [],
   "source": [
    "sns.countplot(x=df['MaritalGender'], hue=df['MaritalGender'])"
   ]
  },
  {
   "cell_type": "code",
   "execution_count": null,
   "id": "00897abf-60c9-41e4-a012-4a3563125cdd",
   "metadata": {},
   "outputs": [],
   "source": [
    "plt.figure(figsize=(12, 12))\n",
    "\n",
    "plt.subplot(2, 2, 1)\n",
    "sns.countplot(x = df['Age'], hue = df['MaritalGender'])\n",
    "\n",
    "plt.subplot(2, 2, 2)\n",
    "sns.countplot(x = df['Product_Category_1'], hue = df['MaritalGender'])\n",
    "\n",
    "plt.subplot(2, 2, 3)\n",
    "sns.countplot(x = df['Stay_In_Current_City_Years'], hue = df['MaritalGender'])\n",
    "\n",
    "plt.subplot(2, 2, 4)\n",
    "sns.countplot(x = df['City_Category'], hue = df['MaritalGender'])\n",
    "\n",
    "plt.tight_layout()"
   ]
  },
  {
   "cell_type": "code",
   "execution_count": null,
   "id": "c7fafe3c-d6fe-4454-a0ff-d67ace82462d",
   "metadata": {},
   "outputs": [],
   "source": []
  }
 ],
 "metadata": {
  "kernelspec": {
   "display_name": "Python 3 (ipykernel)",
   "language": "python",
   "name": "python3"
  },
  "language_info": {
   "codemirror_mode": {
    "name": "ipython",
    "version": 3
   },
   "file_extension": ".py",
   "mimetype": "text/x-python",
   "name": "python",
   "nbconvert_exporter": "python",
   "pygments_lexer": "ipython3",
   "version": "3.11.9"
  }
 },
 "nbformat": 4,
 "nbformat_minor": 5
}
