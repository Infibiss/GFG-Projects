{
 "cells": [
  {
   "cell_type": "code",
   "execution_count": 1,
   "id": "438e14eb-5dc1-4d74-b357-7dc63be5cd50",
   "metadata": {},
   "outputs": [],
   "source": [
    "import pandas as pd\n",
    "from tqdm import tqdm \n",
    "import os\n",
    "from shutil import copyfile as copy"
   ]
  },
  {
   "cell_type": "code",
   "execution_count": 2,
   "id": "d4fa46d2-7f30-45fc-99bf-0aa4b6fd9251",
   "metadata": {},
   "outputs": [
    {
     "data": {
      "text/html": [
       "<div>\n",
       "<style scoped>\n",
       "    .dataframe tbody tr th:only-of-type {\n",
       "        vertical-align: middle;\n",
       "    }\n",
       "\n",
       "    .dataframe tbody tr th {\n",
       "        vertical-align: top;\n",
       "    }\n",
       "\n",
       "    .dataframe thead th {\n",
       "        text-align: right;\n",
       "    }\n",
       "</style>\n",
       "<table border=\"1\" class=\"dataframe\">\n",
       "  <thead>\n",
       "    <tr style=\"text-align: right;\">\n",
       "      <th></th>\n",
       "      <th>img_link</th>\n",
       "      <th>tags</th>\n",
       "      <th>likes</th>\n",
       "      <th>comments</th>\n",
       "      <th>path</th>\n",
       "    </tr>\n",
       "  </thead>\n",
       "  <tbody>\n",
       "    <tr>\n",
       "      <th>0</th>\n",
       "      <td>https://cdn.pixabay.com/photo/2022/03/06/05/30...</td>\n",
       "      <td>Clouds, Sky, Atmosphere, Blue Sky</td>\n",
       "      <td>196</td>\n",
       "      <td>55</td>\n",
       "      <td>Imgs/clouds-7050884__480.jpg</td>\n",
       "    </tr>\n",
       "    <tr>\n",
       "      <th>1</th>\n",
       "      <td>https://cdn.pixabay.com/photo/2022/04/07/11/45...</td>\n",
       "      <td>Bird, Ornithology, Hummingbird</td>\n",
       "      <td>76</td>\n",
       "      <td>20</td>\n",
       "      <td>Imgs/bird-7117346__340.jpg</td>\n",
       "    </tr>\n",
       "    <tr>\n",
       "      <th>2</th>\n",
       "      <td>https://cdn.pixabay.com/photo/2022/02/28/15/28...</td>\n",
       "      <td>Sea, Rainbow, Rainfall, Subtropical</td>\n",
       "      <td>282</td>\n",
       "      <td>106</td>\n",
       "      <td>Imgs/sea-7039471__340.jpg</td>\n",
       "    </tr>\n",
       "    <tr>\n",
       "      <th>3</th>\n",
       "      <td>https://cdn.pixabay.com/photo/2022/04/04/02/52...</td>\n",
       "      <td>Cherry Blossoms, Road, Japan, Sakura</td>\n",
       "      <td>42</td>\n",
       "      <td>11</td>\n",
       "      <td>Imgs/cherry-blossoms-7110279__340.jpg</td>\n",
       "    </tr>\n",
       "    <tr>\n",
       "      <th>4</th>\n",
       "      <td>https://cdn.pixabay.com/photo/2022/04/09/18/06...</td>\n",
       "      <td>Cape Marguerite, Flower, Plant</td>\n",
       "      <td>39</td>\n",
       "      <td>15</td>\n",
       "      <td>Imgs/cape-marguerite-7121992__340.jpg</td>\n",
       "    </tr>\n",
       "    <tr>\n",
       "      <th>...</th>\n",
       "      <td>...</td>\n",
       "      <td>...</td>\n",
       "      <td>...</td>\n",
       "      <td>...</td>\n",
       "      <td>...</td>\n",
       "    </tr>\n",
       "    <tr>\n",
       "      <th>657</th>\n",
       "      <td>https://cdn.pixabay.com/photo/2022/03/19/12/13...</td>\n",
       "      <td>Flower, Plant, Petals, Snowdrop, Blossom</td>\n",
       "      <td>41</td>\n",
       "      <td>31</td>\n",
       "      <td>Imgs/flower-7078412__340.jpg</td>\n",
       "    </tr>\n",
       "    <tr>\n",
       "      <th>658</th>\n",
       "      <td>https://cdn.pixabay.com/photo/2022/04/06/13/11...</td>\n",
       "      <td>Flower, Flora, Nature, Garden, Blooming</td>\n",
       "      <td>5</td>\n",
       "      <td>4</td>\n",
       "      <td>Imgs/flower-7115571__340.jpg</td>\n",
       "    </tr>\n",
       "    <tr>\n",
       "      <th>659</th>\n",
       "      <td>https://cdn.pixabay.com/photo/2022/03/28/03/00...</td>\n",
       "      <td>Foto vom 25.03.2022</td>\n",
       "      <td>25</td>\n",
       "      <td>24</td>\n",
       "      <td>Imgs/insect-7096440__340.jpg</td>\n",
       "    </tr>\n",
       "    <tr>\n",
       "      <th>660</th>\n",
       "      <td>https://cdn.pixabay.com/photo/2015/03/03/05/56...</td>\n",
       "      <td>Avenue, Trees, Road, Tree Lined</td>\n",
       "      <td>1264</td>\n",
       "      <td>311</td>\n",
       "      <td>Imgs/avenue-656969__340.jpg</td>\n",
       "    </tr>\n",
       "    <tr>\n",
       "      <th>661</th>\n",
       "      <td>https://cdn.pixabay.com/photo/2016/10/18/21/28...</td>\n",
       "      <td>Seljalandsfoss, Waterfalls, Iceland</td>\n",
       "      <td>1056</td>\n",
       "      <td>191</td>\n",
       "      <td>Imgs/seljalandsfoss-1751463__340.jpg</td>\n",
       "    </tr>\n",
       "  </tbody>\n",
       "</table>\n",
       "<p>662 rows × 5 columns</p>\n",
       "</div>"
      ],
      "text/plain": [
       "                                              img_link  \\\n",
       "0    https://cdn.pixabay.com/photo/2022/03/06/05/30...   \n",
       "1    https://cdn.pixabay.com/photo/2022/04/07/11/45...   \n",
       "2    https://cdn.pixabay.com/photo/2022/02/28/15/28...   \n",
       "3    https://cdn.pixabay.com/photo/2022/04/04/02/52...   \n",
       "4    https://cdn.pixabay.com/photo/2022/04/09/18/06...   \n",
       "..                                                 ...   \n",
       "657  https://cdn.pixabay.com/photo/2022/03/19/12/13...   \n",
       "658  https://cdn.pixabay.com/photo/2022/04/06/13/11...   \n",
       "659  https://cdn.pixabay.com/photo/2022/03/28/03/00...   \n",
       "660  https://cdn.pixabay.com/photo/2015/03/03/05/56...   \n",
       "661  https://cdn.pixabay.com/photo/2016/10/18/21/28...   \n",
       "\n",
       "                                         tags  likes  comments  \\\n",
       "0           Clouds, Sky, Atmosphere, Blue Sky    196        55   \n",
       "1              Bird, Ornithology, Hummingbird     76        20   \n",
       "2         Sea, Rainbow, Rainfall, Subtropical    282       106   \n",
       "3        Cherry Blossoms, Road, Japan, Sakura     42        11   \n",
       "4              Cape Marguerite, Flower, Plant     39        15   \n",
       "..                                        ...    ...       ...   \n",
       "657  Flower, Plant, Petals, Snowdrop, Blossom     41        31   \n",
       "658   Flower, Flora, Nature, Garden, Blooming      5         4   \n",
       "659                       Foto vom 25.03.2022     25        24   \n",
       "660           Avenue, Trees, Road, Tree Lined   1264       311   \n",
       "661       Seljalandsfoss, Waterfalls, Iceland   1056       191   \n",
       "\n",
       "                                      path  \n",
       "0             Imgs/clouds-7050884__480.jpg  \n",
       "1               Imgs/bird-7117346__340.jpg  \n",
       "2                Imgs/sea-7039471__340.jpg  \n",
       "3    Imgs/cherry-blossoms-7110279__340.jpg  \n",
       "4    Imgs/cape-marguerite-7121992__340.jpg  \n",
       "..                                     ...  \n",
       "657           Imgs/flower-7078412__340.jpg  \n",
       "658           Imgs/flower-7115571__340.jpg  \n",
       "659           Imgs/insect-7096440__340.jpg  \n",
       "660            Imgs/avenue-656969__340.jpg  \n",
       "661   Imgs/seljalandsfoss-1751463__340.jpg  \n",
       "\n",
       "[662 rows x 5 columns]"
      ]
     },
     "execution_count": 2,
     "metadata": {},
     "output_type": "execute_result"
    }
   ],
   "source": [
    "df = pd.read_csv('images.csv')\n",
    "df"
   ]
  },
  {
   "cell_type": "markdown",
   "id": "6769ed99-81a0-4f1e-b9ea-4d5f7e9825ac",
   "metadata": {},
   "source": [
    "### 1. Removing unnecessary columns"
   ]
  },
  {
   "cell_type": "code",
   "execution_count": 3,
   "id": "eb1cafa9-f81e-44d4-ab60-f7708353238a",
   "metadata": {},
   "outputs": [
    {
     "data": {
      "text/plain": [
       "img_link    0\n",
       "tags        1\n",
       "likes       0\n",
       "comments    0\n",
       "path        0\n",
       "dtype: int64"
      ]
     },
     "execution_count": 3,
     "metadata": {},
     "output_type": "execute_result"
    }
   ],
   "source": [
    "df.isna().sum()"
   ]
  },
  {
   "cell_type": "code",
   "execution_count": 4,
   "id": "115dc487-5deb-490b-91c6-6ce068956d42",
   "metadata": {},
   "outputs": [],
   "source": [
    "df = df.dropna()"
   ]
  },
  {
   "cell_type": "code",
   "execution_count": 5,
   "id": "6333afb5-fdc0-4258-b41d-ef32f821a51f",
   "metadata": {},
   "outputs": [
    {
     "data": {
      "text/html": [
       "<div>\n",
       "<style scoped>\n",
       "    .dataframe tbody tr th:only-of-type {\n",
       "        vertical-align: middle;\n",
       "    }\n",
       "\n",
       "    .dataframe tbody tr th {\n",
       "        vertical-align: top;\n",
       "    }\n",
       "\n",
       "    .dataframe thead th {\n",
       "        text-align: right;\n",
       "    }\n",
       "</style>\n",
       "<table border=\"1\" class=\"dataframe\">\n",
       "  <thead>\n",
       "    <tr style=\"text-align: right;\">\n",
       "      <th></th>\n",
       "      <th>tags</th>\n",
       "      <th>path</th>\n",
       "    </tr>\n",
       "  </thead>\n",
       "  <tbody>\n",
       "    <tr>\n",
       "      <th>0</th>\n",
       "      <td>Clouds, Sky, Atmosphere, Blue Sky</td>\n",
       "      <td>Imgs/clouds-7050884__480.jpg</td>\n",
       "    </tr>\n",
       "    <tr>\n",
       "      <th>1</th>\n",
       "      <td>Bird, Ornithology, Hummingbird</td>\n",
       "      <td>Imgs/bird-7117346__340.jpg</td>\n",
       "    </tr>\n",
       "    <tr>\n",
       "      <th>2</th>\n",
       "      <td>Sea, Rainbow, Rainfall, Subtropical</td>\n",
       "      <td>Imgs/sea-7039471__340.jpg</td>\n",
       "    </tr>\n",
       "    <tr>\n",
       "      <th>3</th>\n",
       "      <td>Cherry Blossoms, Road, Japan, Sakura</td>\n",
       "      <td>Imgs/cherry-blossoms-7110279__340.jpg</td>\n",
       "    </tr>\n",
       "    <tr>\n",
       "      <th>4</th>\n",
       "      <td>Cape Marguerite, Flower, Plant</td>\n",
       "      <td>Imgs/cape-marguerite-7121992__340.jpg</td>\n",
       "    </tr>\n",
       "    <tr>\n",
       "      <th>...</th>\n",
       "      <td>...</td>\n",
       "      <td>...</td>\n",
       "    </tr>\n",
       "    <tr>\n",
       "      <th>657</th>\n",
       "      <td>Flower, Plant, Petals, Snowdrop, Blossom</td>\n",
       "      <td>Imgs/flower-7078412__340.jpg</td>\n",
       "    </tr>\n",
       "    <tr>\n",
       "      <th>658</th>\n",
       "      <td>Flower, Flora, Nature, Garden, Blooming</td>\n",
       "      <td>Imgs/flower-7115571__340.jpg</td>\n",
       "    </tr>\n",
       "    <tr>\n",
       "      <th>659</th>\n",
       "      <td>Foto vom 25.03.2022</td>\n",
       "      <td>Imgs/insect-7096440__340.jpg</td>\n",
       "    </tr>\n",
       "    <tr>\n",
       "      <th>660</th>\n",
       "      <td>Avenue, Trees, Road, Tree Lined</td>\n",
       "      <td>Imgs/avenue-656969__340.jpg</td>\n",
       "    </tr>\n",
       "    <tr>\n",
       "      <th>661</th>\n",
       "      <td>Seljalandsfoss, Waterfalls, Iceland</td>\n",
       "      <td>Imgs/seljalandsfoss-1751463__340.jpg</td>\n",
       "    </tr>\n",
       "  </tbody>\n",
       "</table>\n",
       "<p>661 rows × 2 columns</p>\n",
       "</div>"
      ],
      "text/plain": [
       "                                         tags  \\\n",
       "0           Clouds, Sky, Atmosphere, Blue Sky   \n",
       "1              Bird, Ornithology, Hummingbird   \n",
       "2         Sea, Rainbow, Rainfall, Subtropical   \n",
       "3        Cherry Blossoms, Road, Japan, Sakura   \n",
       "4              Cape Marguerite, Flower, Plant   \n",
       "..                                        ...   \n",
       "657  Flower, Plant, Petals, Snowdrop, Blossom   \n",
       "658   Flower, Flora, Nature, Garden, Blooming   \n",
       "659                       Foto vom 25.03.2022   \n",
       "660           Avenue, Trees, Road, Tree Lined   \n",
       "661       Seljalandsfoss, Waterfalls, Iceland   \n",
       "\n",
       "                                      path  \n",
       "0             Imgs/clouds-7050884__480.jpg  \n",
       "1               Imgs/bird-7117346__340.jpg  \n",
       "2                Imgs/sea-7039471__340.jpg  \n",
       "3    Imgs/cherry-blossoms-7110279__340.jpg  \n",
       "4    Imgs/cape-marguerite-7121992__340.jpg  \n",
       "..                                     ...  \n",
       "657           Imgs/flower-7078412__340.jpg  \n",
       "658           Imgs/flower-7115571__340.jpg  \n",
       "659           Imgs/insect-7096440__340.jpg  \n",
       "660            Imgs/avenue-656969__340.jpg  \n",
       "661   Imgs/seljalandsfoss-1751463__340.jpg  \n",
       "\n",
       "[661 rows x 2 columns]"
      ]
     },
     "execution_count": 5,
     "metadata": {},
     "output_type": "execute_result"
    }
   ],
   "source": [
    "df = df.drop(columns=['img_link', 'likes', 'comments'])\n",
    "df"
   ]
  },
  {
   "cell_type": "markdown",
   "id": "63e99a36-345e-48bc-b5ab-5d9a0f69bae9",
   "metadata": {},
   "source": [
    "### 2. Finding all the tags\n"
   ]
  },
  {
   "cell_type": "code",
   "execution_count": 10,
   "id": "9b50bc84-feab-48ec-83dc-bf85f07c62a8",
   "metadata": {},
   "outputs": [
    {
     "name": "stderr",
     "output_type": "stream",
     "text": [
      "100%|████████████████████████████████████████████████████████████████████████████████████████| 661/661 [00:00<?, ?it/s]\n"
     ]
    }
   ],
   "source": [
    "tags = []\n",
    "for tag in tqdm(df['tags']):\n",
    "    tags += [t.strip() for t in tag.split(', ')]\n",
    "tags = list(set(tags))"
   ]
  },
  {
   "cell_type": "markdown",
   "id": "5b4adc2a-0be2-4197-92d3-5e73acf98ac8",
   "metadata": {},
   "source": [
    "### 3. Creating Folders for each Tag\n"
   ]
  },
  {
   "cell_type": "code",
   "execution_count": 17,
   "id": "99237b5f-0fc6-4555-a902-7264b40d3a47",
   "metadata": {},
   "outputs": [
    {
     "name": "stderr",
     "output_type": "stream",
     "text": [
      "100%|████████████████████████████████████████████████████████████████████████████| 1168/1168 [00:00<00:00, 5122.28it/s]\n"
     ]
    }
   ],
   "source": [
    "for tag in tqdm(tags):\n",
    "    try:\n",
    "        os.makedirs('Dataset/' + tag)\n",
    "    except:\n",
    "        pass\n",
    "    "
   ]
  },
  {
   "cell_type": "markdown",
   "id": "701e0d40-30d5-44e7-a65b-b66fba6fc412",
   "metadata": {},
   "source": [
    "### 4. Saving Images in Specific Folders\n"
   ]
  },
  {
   "cell_type": "code",
   "execution_count": 36,
   "id": "2c4cea89-976c-4e20-b0e2-51f2c5d7f60b",
   "metadata": {},
   "outputs": [
    {
     "name": "stderr",
     "output_type": "stream",
     "text": [
      "100%|███████████████████████████████████████████████████████████████████████████████| 661/661 [00:01<00:00, 371.71it/s]\n"
     ]
    }
   ],
   "source": [
    "for data in tqdm(df.values):\n",
    "    tag, src = data\n",
    "    paths = ['Dataset/' + t.strip() + '/' for t in tag.split(', ')]\n",
    "    \n",
    "    for path in paths:\n",
    "        try:\n",
    "            copy(src, path + src.split('/')[-1])\n",
    "        except Exception as e:\n",
    "            pass\n"
   ]
  },
  {
   "cell_type": "markdown",
   "id": "095de262-0da3-4d8a-9892-b5a528eecf02",
   "metadata": {},
   "source": [
    "### 5. Checking Number of Folders\n"
   ]
  },
  {
   "cell_type": "code",
   "execution_count": 37,
   "id": "571bb25d-2639-4108-a6c1-2fdcb13cc308",
   "metadata": {},
   "outputs": [
    {
     "name": "stdout",
     "output_type": "stream",
     "text": [
      "1163\n"
     ]
    }
   ],
   "source": [
    "folders = os.listdir('Dataset')\n",
    "print(len(folders))"
   ]
  },
  {
   "cell_type": "markdown",
   "id": "f5004c00-44ba-4bd3-a87a-ccc608a3f48e",
   "metadata": {},
   "source": [
    "### 6. Checking number of Images in Each Folder\n"
   ]
  },
  {
   "cell_type": "code",
   "execution_count": 38,
   "id": "21ed9a9c-061a-43da-867c-db73a4bc9250",
   "metadata": {},
   "outputs": [
    {
     "name": "stderr",
     "output_type": "stream",
     "text": [
      "100%|███████████████████████████████████████████████████████████████████████████| 1163/1163 [00:00<00:00, 11899.07it/s]\n"
     ]
    }
   ],
   "source": [
    "folder = []\n",
    "freq = []\n",
    "\n",
    "for f in tqdm(folders):\n",
    "    try:\n",
    "        freq.append(len(os.listdir('Dataset/' + f)))\n",
    "        folder.append(f)\n",
    "    except:\n",
    "        pass"
   ]
  },
  {
   "cell_type": "markdown",
   "id": "335c4d98-f11f-48e0-b00e-453ebecdcada",
   "metadata": {},
   "source": [
    "### 7. Top 10 Folders with most number of Images"
   ]
  },
  {
   "cell_type": "code",
   "execution_count": 41,
   "id": "9927eb55-ce9b-4829-aba1-4337ad67f699",
   "metadata": {},
   "outputs": [
    {
     "data": {
      "text/html": [
       "<div>\n",
       "<style scoped>\n",
       "    .dataframe tbody tr th:only-of-type {\n",
       "        vertical-align: middle;\n",
       "    }\n",
       "\n",
       "    .dataframe tbody tr th {\n",
       "        vertical-align: top;\n",
       "    }\n",
       "\n",
       "    .dataframe thead th {\n",
       "        text-align: right;\n",
       "    }\n",
       "</style>\n",
       "<table border=\"1\" class=\"dataframe\">\n",
       "  <thead>\n",
       "    <tr style=\"text-align: right;\">\n",
       "      <th></th>\n",
       "      <th>folder</th>\n",
       "      <th>freq</th>\n",
       "    </tr>\n",
       "  </thead>\n",
       "  <tbody>\n",
       "    <tr>\n",
       "      <th>694</th>\n",
       "      <td>Nature</td>\n",
       "      <td>70</td>\n",
       "    </tr>\n",
       "    <tr>\n",
       "      <th>414</th>\n",
       "      <td>Flowers</td>\n",
       "      <td>64</td>\n",
       "    </tr>\n",
       "    <tr>\n",
       "      <th>412</th>\n",
       "      <td>Flower</td>\n",
       "      <td>59</td>\n",
       "    </tr>\n",
       "    <tr>\n",
       "      <th>94</th>\n",
       "      <td>Bird</td>\n",
       "      <td>58</td>\n",
       "    </tr>\n",
       "    <tr>\n",
       "      <th>29</th>\n",
       "      <td>Animal</td>\n",
       "      <td>41</td>\n",
       "    </tr>\n",
       "    <tr>\n",
       "      <th>967</th>\n",
       "      <td>Spring</td>\n",
       "      <td>34</td>\n",
       "    </tr>\n",
       "    <tr>\n",
       "      <th>798</th>\n",
       "      <td>Plant</td>\n",
       "      <td>29</td>\n",
       "    </tr>\n",
       "    <tr>\n",
       "      <th>107</th>\n",
       "      <td>Bloom</td>\n",
       "      <td>27</td>\n",
       "    </tr>\n",
       "    <tr>\n",
       "      <th>725</th>\n",
       "      <td>Ornithology</td>\n",
       "      <td>27</td>\n",
       "    </tr>\n",
       "    <tr>\n",
       "      <th>110</th>\n",
       "      <td>Blossom</td>\n",
       "      <td>26</td>\n",
       "    </tr>\n",
       "  </tbody>\n",
       "</table>\n",
       "</div>"
      ],
      "text/plain": [
       "          folder  freq\n",
       "694       Nature    70\n",
       "414      Flowers    64\n",
       "412       Flower    59\n",
       "94          Bird    58\n",
       "29        Animal    41\n",
       "967       Spring    34\n",
       "798        Plant    29\n",
       "107        Bloom    27\n",
       "725  Ornithology    27\n",
       "110      Blossom    26"
      ]
     },
     "execution_count": 41,
     "metadata": {},
     "output_type": "execute_result"
    }
   ],
   "source": [
    "df_cur = pd.DataFrame({'folder': folder, 'freq': freq})\n",
    "df_cur.sort_values(by='freq', ascending=False).head(10)"
   ]
  },
  {
   "cell_type": "code",
   "execution_count": null,
   "id": "ef86e923-aa79-452f-907a-5706355e0d99",
   "metadata": {},
   "outputs": [],
   "source": []
  }
 ],
 "metadata": {
  "kernelspec": {
   "display_name": "Python 3 (ipykernel)",
   "language": "python",
   "name": "python3"
  },
  "language_info": {
   "codemirror_mode": {
    "name": "ipython",
    "version": 3
   },
   "file_extension": ".py",
   "mimetype": "text/x-python",
   "name": "python",
   "nbconvert_exporter": "python",
   "pygments_lexer": "ipython3",
   "version": "3.11.9"
  }
 },
 "nbformat": 4,
 "nbformat_minor": 5
}
