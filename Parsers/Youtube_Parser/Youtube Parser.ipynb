{
 "cells": [
  {
   "cell_type": "code",
   "execution_count": 1,
   "id": "8c41e47c-7c71-4744-b315-b3c0a759137c",
   "metadata": {},
   "outputs": [],
   "source": [
    "import pandas as pd\n",
    "import numpy as np\n",
    "from bs4 import BeautifulSoup\n",
    "from selenium import webdriver\n",
    "from tqdm import tqdm\n",
    "import time"
   ]
  },
  {
   "cell_type": "code",
   "execution_count": 2,
   "id": "001fdcd1-12d3-446f-b81b-c8dce4db3fb1",
   "metadata": {},
   "outputs": [],
   "source": [
    "link = 'https://www.youtube.com/c/GeeksforGeeksVideos/videos'"
   ]
  },
  {
   "cell_type": "code",
   "execution_count": 3,
   "id": "42fe803e-da80-415b-8082-e51bb9fabfaf",
   "metadata": {},
   "outputs": [],
   "source": [
    "options = webdriver.ChromeOptions()\n",
    "browser = webdriver.Chrome()\n",
    "browser.get(link)\n",
    "# Прокрутка вниз несколько раз\n",
    "for _ in range(3):\n",
    "    browser.execute_script(\"window.scrollTo(0, document.documentElement.scrollHeight);\")\n",
    "    time.sleep(2)  # Задержка, чтобы дать время загрузить новые видео"
   ]
  },
  {
   "cell_type": "code",
   "execution_count": 4,
   "id": "016f205e-badf-4708-bfb5-d0502350eb8f",
   "metadata": {},
   "outputs": [],
   "source": [
    "soup = BeautifulSoup(browser.page_source, 'html.parser')"
   ]
  },
  {
   "cell_type": "code",
   "execution_count": 5,
   "id": "aba87b5b-9c1b-44db-9fe2-4888e2cb0271",
   "metadata": {},
   "outputs": [
    {
     "name": "stderr",
     "output_type": "stream",
     "text": [
      "100%|████████████████████████████████████████████████████████████████████████████████| 15/15 [00:00<00:00, 1367.29it/s]\n"
     ]
    }
   ],
   "source": [
    "data = []\n",
    "for sp in tqdm(soup.find_all('ytd-rich-grid-row')):\n",
    "    title = sp.find('a', id='video-title-link').get('title')\n",
    "    video_link = 'https://www.youtube.com' + sp.find('a', id='video-title-link').get('href')\n",
    "\n",
    "    try:\n",
    "        views = sp.find('div', id='metadata').find_all('span', class_=['inline-metadata-item', 'style-scope', 'ytd-video-meta-block'])[0].text\n",
    "    except:\n",
    "        views = np.nan\n",
    "\n",
    "    try:\n",
    "        date_time = sp.find('div', id='metadata').find_all('span', class_=['inline-metadata-item', 'style-scope', 'ytd-video-meta-block'])[1].text\n",
    "    except:\n",
    "        date_time = np.nan\n",
    "\n",
    "    data.append([title, views, date_time, video_link])"
   ]
  },
  {
   "cell_type": "code",
   "execution_count": 6,
   "id": "51f65e3e-e6d8-4812-be9a-c931bac1be98",
   "metadata": {},
   "outputs": [
    {
     "data": {
      "text/html": [
       "<div>\n",
       "<style scoped>\n",
       "    .dataframe tbody tr th:only-of-type {\n",
       "        vertical-align: middle;\n",
       "    }\n",
       "\n",
       "    .dataframe tbody tr th {\n",
       "        vertical-align: top;\n",
       "    }\n",
       "\n",
       "    .dataframe thead th {\n",
       "        text-align: right;\n",
       "    }\n",
       "</style>\n",
       "<table border=\"1\" class=\"dataframe\">\n",
       "  <thead>\n",
       "    <tr style=\"text-align: right;\">\n",
       "      <th></th>\n",
       "      <th>title</th>\n",
       "      <th>views</th>\n",
       "      <th>date_time</th>\n",
       "      <th>video_link</th>\n",
       "    </tr>\n",
       "  </thead>\n",
       "  <tbody>\n",
       "    <tr>\n",
       "      <th>0</th>\n",
       "      <td>How to Merge two SORTED ARRAYS with @SandeepJa...</td>\n",
       "      <td>565 просмотров</td>\n",
       "      <td>1 день назад</td>\n",
       "      <td>https://www.youtube.com/watch?v=pUw1Id6zNTE</td>\n",
       "    </tr>\n",
       "    <tr>\n",
       "      <th>1</th>\n",
       "      <td>Learn Merge Sort in 2 minutes | Episode - 10 |...</td>\n",
       "      <td>548 просмотров</td>\n",
       "      <td>4 дня назад</td>\n",
       "      <td>https://www.youtube.com/watch?v=EN8VDyLzs2s</td>\n",
       "    </tr>\n",
       "    <tr>\n",
       "      <th>2</th>\n",
       "      <td>Learn INSERTION SORT in 10 minutes | @SandeepJ...</td>\n",
       "      <td>460 просмотров</td>\n",
       "      <td>6 дней назад</td>\n",
       "      <td>https://www.youtube.com/watch?v=bJ_Q23Wlj_Q</td>\n",
       "    </tr>\n",
       "    <tr>\n",
       "      <th>3</th>\n",
       "      <td>Learn Selection Sort Algorithm | @SandeepJainG...</td>\n",
       "      <td>794 просмотра</td>\n",
       "      <td>8 дней назад</td>\n",
       "      <td>https://www.youtube.com/watch?v=WYVKZ4Mla5c</td>\n",
       "    </tr>\n",
       "    <tr>\n",
       "      <th>4</th>\n",
       "      <td>Lecture-6 Learn Stability in SORTING - Beginne...</td>\n",
       "      <td>597 просмотров</td>\n",
       "      <td>13 дней назад</td>\n",
       "      <td>https://www.youtube.com/watch?v=voH3da1RvbA</td>\n",
       "    </tr>\n",
       "  </tbody>\n",
       "</table>\n",
       "</div>"
      ],
      "text/plain": [
       "                                               title           views  \\\n",
       "0  How to Merge two SORTED ARRAYS with @SandeepJa...  565 просмотров   \n",
       "1  Learn Merge Sort in 2 minutes | Episode - 10 |...  548 просмотров   \n",
       "2  Learn INSERTION SORT in 10 minutes | @SandeepJ...  460 просмотров   \n",
       "3  Learn Selection Sort Algorithm | @SandeepJainG...   794 просмотра   \n",
       "4  Lecture-6 Learn Stability in SORTING - Beginne...  597 просмотров   \n",
       "\n",
       "       date_time                                   video_link  \n",
       "0   1 день назад  https://www.youtube.com/watch?v=pUw1Id6zNTE  \n",
       "1    4 дня назад  https://www.youtube.com/watch?v=EN8VDyLzs2s  \n",
       "2   6 дней назад  https://www.youtube.com/watch?v=bJ_Q23Wlj_Q  \n",
       "3   8 дней назад  https://www.youtube.com/watch?v=WYVKZ4Mla5c  \n",
       "4  13 дней назад  https://www.youtube.com/watch?v=voH3da1RvbA  "
      ]
     },
     "execution_count": 6,
     "metadata": {},
     "output_type": "execute_result"
    }
   ],
   "source": [
    "df = pd.DataFrame(data, columns=['title', 'views', 'date_time', 'video_link'])\n",
    "df.head()"
   ]
  },
  {
   "cell_type": "code",
   "execution_count": 11,
   "id": "bdf84677-c31d-40db-b2d9-942ae6a18ae9",
   "metadata": {},
   "outputs": [],
   "source": [
    "df.to_csv('data.csv', index=False)"
   ]
  },
  {
   "cell_type": "code",
   "execution_count": null,
   "id": "85ebe455-4066-4f2c-a218-8b4187380e0c",
   "metadata": {},
   "outputs": [],
   "source": []
  }
 ],
 "metadata": {
  "kernelspec": {
   "display_name": "Python 3 (ipykernel)",
   "language": "python",
   "name": "python3"
  },
  "language_info": {
   "codemirror_mode": {
    "name": "ipython",
    "version": 3
   },
   "file_extension": ".py",
   "mimetype": "text/x-python",
   "name": "python",
   "nbconvert_exporter": "python",
   "pygments_lexer": "ipython3",
   "version": "3.11.9"
  }
 },
 "nbformat": 4,
 "nbformat_minor": 5
}
